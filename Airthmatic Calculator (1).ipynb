{
 "cells": [
  {
   "cell_type": "code",
   "execution_count": 11,
   "metadata": {},
   "outputs": [
    {
     "name": "stdout",
     "output_type": "stream",
     "text": [
      " Airthmatic Calculator is here !!!!!!!\n",
      "Options -- >\n",
      "1. Addition\n",
      "2. Substraction\n",
      "3. Multiplication\n",
      "4. Division\n",
      "5. Integer Division\n",
      "6. Remainder\n",
      "7. Power\n",
      "8. Max\n",
      "9. Min\n",
      " Enter the option from 1 to 7  : \n",
      "4\n",
      "Enter 1st number : 5\n",
      "Enter 2nd number : 6\n",
      "Result :  0.8333333333333334\n"
     ]
    }
   ],
   "source": [
    "print(\" Airthmatic Calculator is here !!!!!!!\")\n",
    "print(\"Options -- >\")\n",
    "print(\"1. Addition\")\n",
    "print(\"2. Substraction\")\n",
    "print(\"3. Multiplication\")\n",
    "print(\"4. Division\")\n",
    "print(\"5. Integer Division\")\n",
    "print(\"6. Remainder\")\n",
    "print(\"7. Power\")\n",
    "print(\"8. Max\")\n",
    "print(\"9. Min\")\n",
    "print(\" Enter the option from 1 to 7  : \")\n",
    "n=int(input())\n",
    "a=float(input(\"Enter 1st number : \"))\n",
    "b=float(input(\"Enter 2nd number : \"))\n",
    "\n",
    "if n==1:\n",
    "    print(\"Result : \",a+b)\n",
    "elif n==2:\n",
    "    print(\"Result : \",a-b)\n",
    "elif n==3:\n",
    "    print(\"Result : \",a*b)\n",
    "elif n==4:\n",
    "    print(\"Result : \",a/b)\n",
    "elif n==5:\n",
    "    print(\"Result : \",a//b)\n",
    "elif n==6:\n",
    "    print(\"Result : \",a%b)\n",
    "elif n==7:\n",
    "    print(\"Result : \",a**b)\n",
    "elif n==8:\n",
    "     print(\"Result : \",a<b)\n",
    "elif n==9:\n",
    "     print(\"Result : \",b<a)\n",
    "else:\n",
    "    print(\"Invalid Input !!  You can only enter numbers from 1 to 9 !!!\")"
   ]
  },
  {
   "cell_type": "code",
   "execution_count": null,
   "metadata": {},
   "outputs": [],
   "source": []
  }
 ],
 "metadata": {
  "kernelspec": {
   "display_name": "Python 3 (ipykernel)",
   "language": "python",
   "name": "python3"
  },
  "language_info": {
   "codemirror_mode": {
    "name": "ipython",
    "version": 3
   },
   "file_extension": ".py",
   "mimetype": "text/x-python",
   "name": "python",
   "nbconvert_exporter": "python",
   "pygments_lexer": "ipython3",
   "version": "3.9.7"
  }
 },
 "nbformat": 4,
 "nbformat_minor": 2
}
